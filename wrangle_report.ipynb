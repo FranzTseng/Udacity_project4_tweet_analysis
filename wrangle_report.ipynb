{
 "cells": [
  {
   "cell_type": "markdown",
   "metadata": {},
   "source": [
    "## Twitter  WeRateDogs wranggling report"
   ]
  },
  {
   "cell_type": "markdown",
   "metadata": {},
   "source": [
    "### Completeness"
   ]
  },
  {
   "cell_type": "markdown",
   "metadata": {},
   "source": [
    "**1. expanded_urls**"
   ]
  },
  {
   "cell_type": "markdown",
   "metadata": {},
   "source": [
    "> I first read the \"twitter_archive_enhanced.csv\" file and evaluate its complteness. Some columns have more than 2000 missing value while the expanded_urls column has only 59. So I decided to go for this column as a first step.\n",
    "This column has urls that direct to dog images. Most of them direct to the twitter webpage with both dog image and the text. However, others direct to websites from other providers with only images.\n",
    "\n",
    "> I created a new urls in each missing value with a pattern like this: \"https://twitter.com/dog_rates/status/ + tweet_id + /photo/1\".\n",
    "These rows with missing urls probably just don't have a image connection. I did this with the intent to remove any missing value to facilitate later manipulation."
   ]
  },
  {
   "cell_type": "markdown",
   "metadata": {},
   "source": [
    "**2. The other two dataset don't have completeness issues**"
   ]
  },
  {
   "cell_type": "markdown",
   "metadata": {},
   "source": [
    "### Tidiness"
   ]
  },
  {
   "cell_type": "markdown",
   "metadata": {},
   "source": [
    "**1. Variables become column names**"
   ]
  },
  {
   "cell_type": "markdown",
   "metadata": {},
   "source": [
    "> In the same \"twitter_archive_enhanced.csv\" dataset, \"puppo\",\"pupper\",\"floofer\",and \"doggo\" are supposed to be the variables in one column called \"dog_stage\" intead of being columns respectively. So I tried to put them into one column.\n",
    "While working on this, I found some rows have both doggo and one of the other three as dog stage label which makes it difficult to be put in a single column. Then I created a new variable \"duplicated\" for these instances. "
   ]
  },
  {
   "cell_type": "markdown",
   "metadata": {},
   "source": [
    "**2. The information in these three tables could be combined in one single table**"
   ]
  },
  {
   "cell_type": "markdown",
   "metadata": {},
   "source": [
    "> Three tables are merged on \"tweet_id\" column to become one. One problem being noticed is that the length of \"image_predictions.tsv\" dataset is shorter which created 281 rows of missing values after table merge."
   ]
  },
  {
   "cell_type": "markdown",
   "metadata": {},
   "source": [
    "**3. text column contain multiple information**"
   ]
  },
  {
   "cell_type": "markdown",
   "metadata": {},
   "source": [
    "> There are text, rating, and urls in one single column \"text\". I don't want the url, so pandas str.rsplit method was used to capture the text information in the column."
   ]
  },
  {
   "cell_type": "markdown",
   "metadata": {},
   "source": [
    "### Quality issues"
   ]
  },
  {
   "cell_type": "markdown",
   "metadata": {},
   "source": [
    "**1. tweet_id data type should be string**"
   ]
  },
  {
   "cell_type": "markdown",
   "metadata": {},
   "source": [
    "> Instead of string, \"tweet_id\" is actually integer. I converted to string with astype method."
   ]
  },
  {
   "cell_type": "markdown",
   "metadata": {},
   "source": [
    "**2. favorites and retweet should not have decimal** "
   ]
  },
  {
   "cell_type": "markdown",
   "metadata": {},
   "source": [
    "> Data in these two columns are floats with decimal. They are converted to integer to strip them out of decimal. "
   ]
  },
  {
   "cell_type": "markdown",
   "metadata": {},
   "source": [
    "**3. timestamp should be data type timestamp** "
   ]
  },
  {
   "cell_type": "markdown",
   "metadata": {},
   "source": [
    "> \"timestamp\" column was object which doesn't contain any time information. It was converted to timestamp pandas to_dateime method. "
   ]
  },
  {
   "cell_type": "markdown",
   "metadata": {},
   "source": [
    "**4. All dog prediction column and do_stage column could be categorical** "
   ]
  },
  {
   "cell_type": "markdown",
   "metadata": {},
   "source": [
    "> These varaibles have no order in themselves, however, they could be categorical to save memory. "
   ]
  },
  {
   "cell_type": "markdown",
   "metadata": {},
   "source": [
    "**5. Denominator column has zero**"
   ]
  },
  {
   "cell_type": "markdown",
   "metadata": {},
   "source": [
    "> Most of the data in this column is 10, some are bigger or smaller, but I noticed there is a zero with value_counts method. It might cause problem if I choose to use numerator/denominator as a metrix to do the analysis. It is probably better to get id of it. I dropped this row then."
   ]
  },
  {
   "cell_type": "markdown",
   "metadata": {},
   "source": [
    "**6. retweets are not needed for analysis** "
   ]
  },
  {
   "cell_type": "markdown",
   "metadata": {},
   "source": [
    "> From the completeness assessment, I already noticed \"retweeted_status_id\",\"retweeted_status_user_id\",\"retweeted_status_timestamp\" have more than 2000 missing values which means these are original tweet. And those with values are retweets, I shoulder remove them.\n",
    "\n",
    "> I first make sure all three columns have missing values in the same row and it seemed to be the case. Then by filtering indexing I drop these rows in which are not \"None\". The remaining rows are original tweets then."
   ]
  },
  {
   "cell_type": "markdown",
   "metadata": {},
   "source": [
    "**7. Some more retweets need to be removed**"
   ]
  },
  {
   "cell_type": "markdown",
   "metadata": {},
   "source": [
    "> After removing retweets by the steps above. I used pandas str.contains function to find there are two rows start wtih \"RT\" in the text column which also implies these are retweets. These two rows are also dropped."
   ]
  },
  {
   "cell_type": "markdown",
   "metadata": {},
   "source": [
    "**8. Unseasonable names in the name column**"
   ]
  },
  {
   "cell_type": "markdown",
   "metadata": {},
   "source": [
    "> With value_counts method, I \"None\" has the greatest number. But in the second place is the name \"a\" which doesn't seem to be a name. I used indexing to look at the text in two rows and didn't see any name mentioned in the text. I assume these rows simply don't have names information.\n",
    "These \"a\" were replaced with \"None\" using str.replace function."
   ]
  },
  {
   "cell_type": "markdown",
   "metadata": {},
   "source": [
    "**9. source column is not needed**"
   ]
  },
  {
   "cell_type": "markdown",
   "metadata": {},
   "source": [
    "> url in the source column do not provide any useful information, so it was dropped."
   ]
  },
  {
   "cell_type": "markdown",
   "metadata": {},
   "source": [
    "**10. jpg url column provide no more information than expanded_urls column**"
   ]
  },
  {
   "cell_type": "markdown",
   "metadata": {},
   "source": [
    "> I examined one url in this column and it directed to a dog image, then I clicked on the link in expanded_urls column of the same row, it redirected to twitter website with the same dog photo on it. These two columns probably contain the same information which is a dog photo.\n",
    "\n",
    "> In the expanded_urls column, some urls do not direct to twitter website. I filtered these rows in which I found no url was attached in the jpg_url column. All 93 rows have only expanded_urls without jpg_url. \n",
    "jpg_url column was discarded since it has duplicated information."
   ]
  },
  {
   "cell_type": "markdown",
   "metadata": {},
   "source": [
    "**11. Duplication in expanded_urls**"
   ]
  },
  {
   "cell_type": "markdown",
   "metadata": {},
   "source": [
    "> There is one duplication in this cloumn while the other columns are different. They were posted by different tweet_id in different time, one in 2015 and the other in 2016. However, judging from the text, the dog's name is the same. With the completely same photo and the same dog's name, I decided to drop one of them."
   ]
  },
  {
   "cell_type": "code",
   "execution_count": null,
   "metadata": {},
   "outputs": [],
   "source": []
  }
 ],
 "metadata": {
  "kernelspec": {
   "display_name": "Python 3",
   "language": "python",
   "name": "python3"
  },
  "language_info": {
   "codemirror_mode": {
    "name": "ipython",
    "version": 3
   },
   "file_extension": ".py",
   "mimetype": "text/x-python",
   "name": "python",
   "nbconvert_exporter": "python",
   "pygments_lexer": "ipython3",
   "version": "3.8.5"
  }
 },
 "nbformat": 4,
 "nbformat_minor": 4
}
